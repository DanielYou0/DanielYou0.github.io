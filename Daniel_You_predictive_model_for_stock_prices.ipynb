{
  "nbformat": 4,
  "nbformat_minor": 0,
  "metadata": {
    "colab": {
      "provenance": [],
      "authorship_tag": "ABX9TyOuqpmWrb+38S4qVP8/A5yi",
      "include_colab_link": true
    },
    "kernelspec": {
      "name": "python3",
      "display_name": "Python 3"
    },
    "language_info": {
      "name": "python"
    }
  },
  "cells": [
    {
      "cell_type": "markdown",
      "metadata": {
        "id": "view-in-github",
        "colab_type": "text"
      },
      "source": [
        "<a href=\"https://colab.research.google.com/github/DanielYou0/DanielYou0.github.io/blob/main/Daniel_You_predictive_model_for_stock_prices.ipynb\" target=\"_parent\"><img src=\"https://colab.research.google.com/assets/colab-badge.svg\" alt=\"Open In Colab\"/></a>"
      ]
    },
    {
      "cell_type": "code",
      "source": [
        "import yfinance as yf\n",
        "import pandas as pd\n",
        "import numpy as np\n",
        "import matplotlib.pyplot as plt\n",
        "from sklearn.model_selection import train_test_split\n",
        "from sklearn.linear_model import LinearRegression\n",
        "from sklearn.tree import DecisionTreeRegressor\n",
        "from sklearn.ensemble import GradientBoostingRegressor\n",
        "from sklearn.metrics import mean_squared_error, r2_score\n",
        "\n",
        "# Fetch stock data from Yahoo Finance\n",
        "ticker = \"AAPL\" # change this ticker to see different stock comparisions \n",
        "start_date = \"2016-01-01\"\n",
        "end_date = \"2021-12-31\"\n",
        "data = yf.download(ticker, start=start_date, end=end_date)\n",
        "\n",
        "# Reset the index to make Date a column\n",
        "data.reset_index(inplace=True)\n",
        "\n",
        "# Split the data into features and target variable\n",
        "X = data[['Open', 'Close', 'Volume']]\n",
        "y = data['Adj Close']\n",
        "\n",
        "# Split the data into training and test sets\n",
        "X_train, X_test, y_train, y_test = train_test_split(X, y, test_size=0.2, random_state=42)\n",
        "\n",
        "# Create and train the models\n",
        "linear_model = LinearRegression()\n",
        "linear_model.fit(X_train, y_train)\n",
        "\n",
        "tree_model = DecisionTreeRegressor()\n",
        "tree_model.fit(X_train, y_train)\n",
        "\n",
        "gb_model = GradientBoostingRegressor()\n",
        "gb_model.fit(X_train, y_train)\n",
        "\n",
        "# Make predictions on the test set\n",
        "linear_pred = linear_model.predict(X_test)\n",
        "tree_pred = tree_model.predict(X_test)\n",
        "gb_pred = gb_model.predict(X_test)\n",
        "\n",
        "# Calculate the performance metrics\n",
        "linear_mse = mean_squared_error(y_test, linear_pred)\n",
        "linear_r2 = r2_score(y_test, linear_pred)\n",
        "\n",
        "tree_mse = mean_squared_error(y_test, tree_pred)\n",
        "tree_r2 = r2_score(y_test, tree_pred)\n",
        "\n",
        "gb_mse = mean_squared_error(y_test, gb_pred)\n",
        "gb_r2 = r2_score(y_test, gb_pred)\n",
        "\n",
        "# Print the performance scores (linear regression is the best compared to all the other models)\n",
        "print(\"Performance Scores:\")\n",
        "print()\n",
        "\n",
        "print(\"Linear Regression:\")\n",
        "print(\"MSE:\", linear_mse)\n",
        "print(\"R-squared:\", linear_r2)\n",
        "print()\n",
        "\n",
        "print(\"Decision Tree:\")\n",
        "print(\"MSE:\", tree_mse)\n",
        "print(\"R-squared:\", tree_r2)\n",
        "print()\n",
        "\n",
        "print(\"Gradient Boosting:\")\n",
        "print(\"MSE:\", gb_mse)\n",
        "print(\"R-squared:\", gb_r2)\n",
        "print()"
      ],
      "metadata": {
        "colab": {
          "base_uri": "https://localhost:8080/"
        },
        "id": "R-CN-feqbAGu",
        "outputId": "e1aec302-b258-4dd5-fc34-dea360fcb0b8"
      },
      "execution_count": 50,
      "outputs": [
        {
          "output_type": "stream",
          "name": "stdout",
          "text": [
            "\r[*********************100%***********************]  1 of 1 completed\n",
            "Performance Scores:\n",
            "\n",
            "Linear Regression:\n",
            "MSE: 0.07417561200325723\n",
            "R-squared: 0.9999570192157499\n",
            "\n",
            "Decision Tree:\n",
            "MSE: 0.18258809575722176\n",
            "R-squared: 0.9998942000026905\n",
            "\n",
            "Gradient Boosting:\n",
            "MSE: 0.18230877945269167\n",
            "R-squared: 0.9998943618514909\n",
            "\n"
          ]
        }
      ]
    },
    {
      "cell_type": "code",
      "source": [],
      "metadata": {
        "id": "z3_EliJIcriM"
      },
      "execution_count": null,
      "outputs": []
    }
  ]
}